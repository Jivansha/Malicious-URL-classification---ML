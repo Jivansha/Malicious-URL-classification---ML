{
 "cells": [
  {
   "cell_type": "code",
   "execution_count": 1,
   "metadata": {},
   "outputs": [],
   "source": [
    "import pandas as pd\n",
    "import sklearn\n",
    "from sklearn import svm, preprocessing"
   ]
  },
  {
   "cell_type": "code",
   "execution_count": 2,
   "metadata": {},
   "outputs": [
    {
     "data": {
      "text/html": [
       "<div>\n",
       "<style scoped>\n",
       "    .dataframe tbody tr th:only-of-type {\n",
       "        vertical-align: middle;\n",
       "    }\n",
       "\n",
       "    .dataframe tbody tr th {\n",
       "        vertical-align: top;\n",
       "    }\n",
       "\n",
       "    .dataframe thead th {\n",
       "        text-align: right;\n",
       "    }\n",
       "</style>\n",
       "<table border=\"1\" class=\"dataframe\">\n",
       "  <thead>\n",
       "    <tr style=\"text-align: right;\">\n",
       "      <th></th>\n",
       "      <th>label</th>\n",
       "      <th>result</th>\n",
       "      <th>IPpresent</th>\n",
       "      <th>url_len</th>\n",
       "      <th>dotC</th>\n",
       "      <th>dslashC</th>\n",
       "      <th>sslashC</th>\n",
       "      <th>hyphenC</th>\n",
       "      <th>delimC</th>\n",
       "      <th>shady_tld</th>\n",
       "    </tr>\n",
       "    <tr>\n",
       "      <th>url</th>\n",
       "      <th></th>\n",
       "      <th></th>\n",
       "      <th></th>\n",
       "      <th></th>\n",
       "      <th></th>\n",
       "      <th></th>\n",
       "      <th></th>\n",
       "      <th></th>\n",
       "      <th></th>\n",
       "      <th></th>\n",
       "    </tr>\n",
       "  </thead>\n",
       "  <tbody>\n",
       "    <tr>\n",
       "      <th>https://www.google.com</th>\n",
       "      <td>benign</td>\n",
       "      <td>0</td>\n",
       "      <td>0</td>\n",
       "      <td>22</td>\n",
       "      <td>2</td>\n",
       "      <td>1</td>\n",
       "      <td>0</td>\n",
       "      <td>0</td>\n",
       "      <td>0</td>\n",
       "      <td>0</td>\n",
       "    </tr>\n",
       "    <tr>\n",
       "      <th>https://www.youtube.com</th>\n",
       "      <td>benign</td>\n",
       "      <td>0</td>\n",
       "      <td>0</td>\n",
       "      <td>23</td>\n",
       "      <td>2</td>\n",
       "      <td>1</td>\n",
       "      <td>0</td>\n",
       "      <td>0</td>\n",
       "      <td>0</td>\n",
       "      <td>0</td>\n",
       "    </tr>\n",
       "    <tr>\n",
       "      <th>https://www.facebook.com</th>\n",
       "      <td>benign</td>\n",
       "      <td>0</td>\n",
       "      <td>0</td>\n",
       "      <td>24</td>\n",
       "      <td>2</td>\n",
       "      <td>1</td>\n",
       "      <td>0</td>\n",
       "      <td>0</td>\n",
       "      <td>0</td>\n",
       "      <td>0</td>\n",
       "    </tr>\n",
       "    <tr>\n",
       "      <th>https://www.baidu.com</th>\n",
       "      <td>benign</td>\n",
       "      <td>0</td>\n",
       "      <td>0</td>\n",
       "      <td>21</td>\n",
       "      <td>2</td>\n",
       "      <td>1</td>\n",
       "      <td>0</td>\n",
       "      <td>0</td>\n",
       "      <td>0</td>\n",
       "      <td>0</td>\n",
       "    </tr>\n",
       "    <tr>\n",
       "      <th>https://www.wikipedia.org</th>\n",
       "      <td>benign</td>\n",
       "      <td>0</td>\n",
       "      <td>0</td>\n",
       "      <td>25</td>\n",
       "      <td>2</td>\n",
       "      <td>1</td>\n",
       "      <td>0</td>\n",
       "      <td>0</td>\n",
       "      <td>0</td>\n",
       "      <td>0</td>\n",
       "    </tr>\n",
       "  </tbody>\n",
       "</table>\n",
       "</div>"
      ],
      "text/plain": [
       "                            label  result  IPpresent  url_len  dotC  dslashC  \\\n",
       "url                                                                            \n",
       "https://www.google.com     benign       0          0       22     2        1   \n",
       "https://www.youtube.com    benign       0          0       23     2        1   \n",
       "https://www.facebook.com   benign       0          0       24     2        1   \n",
       "https://www.baidu.com      benign       0          0       21     2        1   \n",
       "https://www.wikipedia.org  benign       0          0       25     2        1   \n",
       "\n",
       "                           sslashC  hyphenC  delimC  shady_tld  \n",
       "url                                                             \n",
       "https://www.google.com           0        0       0          0  \n",
       "https://www.youtube.com          0        0       0          0  \n",
       "https://www.facebook.com         0        0       0          0  \n",
       "https://www.baidu.com            0        0       0          0  \n",
       "https://www.wikipedia.org        0        0       0          0  "
      ]
     },
     "execution_count": 2,
     "metadata": {},
     "output_type": "execute_result"
    }
   ],
   "source": [
    "db = pd.read_csv(\"E:\\programs\\python programs\\ml basics\\youtube_playlist1\\minorP\\link_data_final.csv\", index_col=0)\n",
    "db.head()"
   ]
  },
  {
   "cell_type": "code",
   "execution_count": 21,
   "metadata": {},
   "outputs": [
    {
     "data": {
      "text/html": [
       "<div>\n",
       "<style scoped>\n",
       "    .dataframe tbody tr th:only-of-type {\n",
       "        vertical-align: middle;\n",
       "    }\n",
       "\n",
       "    .dataframe tbody tr th {\n",
       "        vertical-align: top;\n",
       "    }\n",
       "\n",
       "    .dataframe thead th {\n",
       "        text-align: right;\n",
       "    }\n",
       "</style>\n",
       "<table border=\"1\" class=\"dataframe\">\n",
       "  <thead>\n",
       "    <tr style=\"text-align: right;\">\n",
       "      <th></th>\n",
       "      <th>label</th>\n",
       "      <th>result</th>\n",
       "      <th>IPpresent</th>\n",
       "      <th>url_len</th>\n",
       "      <th>dotC</th>\n",
       "      <th>dslashC</th>\n",
       "      <th>sslashC</th>\n",
       "      <th>hyphenC</th>\n",
       "      <th>delimC</th>\n",
       "      <th>shady_tld</th>\n",
       "    </tr>\n",
       "    <tr>\n",
       "      <th>url</th>\n",
       "      <th></th>\n",
       "      <th></th>\n",
       "      <th></th>\n",
       "      <th></th>\n",
       "      <th></th>\n",
       "      <th></th>\n",
       "      <th></th>\n",
       "      <th></th>\n",
       "      <th></th>\n",
       "      <th></th>\n",
       "    </tr>\n",
       "  </thead>\n",
       "  <tbody>\n",
       "    <tr>\n",
       "      <th>https://www.polymtl.ca/grames/en/people/professor_wu_t_en.htm</th>\n",
       "      <td>benign</td>\n",
       "      <td>0</td>\n",
       "      <td>0</td>\n",
       "      <td>61</td>\n",
       "      <td>3</td>\n",
       "      <td>1</td>\n",
       "      <td>4</td>\n",
       "      <td>0</td>\n",
       "      <td>3</td>\n",
       "      <td>0</td>\n",
       "    </tr>\n",
       "    <tr>\n",
       "      <th>https://www.pipl.com/directory/name/Lauzon/Robert</th>\n",
       "      <td>benign</td>\n",
       "      <td>0</td>\n",
       "      <td>0</td>\n",
       "      <td>49</td>\n",
       "      <td>2</td>\n",
       "      <td>1</td>\n",
       "      <td>4</td>\n",
       "      <td>0</td>\n",
       "      <td>0</td>\n",
       "      <td>0</td>\n",
       "    </tr>\n",
       "    <tr>\n",
       "      <th>mainlandfishfarm.com/ms21hvyw</th>\n",
       "      <td>malicious</td>\n",
       "      <td>1</td>\n",
       "      <td>0</td>\n",
       "      <td>29</td>\n",
       "      <td>1</td>\n",
       "      <td>0</td>\n",
       "      <td>1</td>\n",
       "      <td>0</td>\n",
       "      <td>0</td>\n",
       "      <td>0</td>\n",
       "    </tr>\n",
       "    <tr>\n",
       "      <th>https://www.foodandwine.com/recipes/perfect-pizza-margherita</th>\n",
       "      <td>benign</td>\n",
       "      <td>0</td>\n",
       "      <td>0</td>\n",
       "      <td>60</td>\n",
       "      <td>2</td>\n",
       "      <td>1</td>\n",
       "      <td>2</td>\n",
       "      <td>2</td>\n",
       "      <td>0</td>\n",
       "      <td>0</td>\n",
       "    </tr>\n",
       "    <tr>\n",
       "      <th>https://www.sourceforge.net/mailarchive/forum.php?thread_name=E1MWsiD-0001j5-5J%4074yxhf1.ch3.sourceforge.com&amp;forum_name=dbpedia-svn</th>\n",
       "      <td>benign</td>\n",
       "      <td>0</td>\n",
       "      <td>0</td>\n",
       "      <td>132</td>\n",
       "      <td>6</td>\n",
       "      <td>1</td>\n",
       "      <td>2</td>\n",
       "      <td>3</td>\n",
       "      <td>6</td>\n",
       "      <td>0</td>\n",
       "    </tr>\n",
       "  </tbody>\n",
       "</table>\n",
       "</div>"
      ],
      "text/plain": [
       "                                                        label  result  \\\n",
       "url                                                                     \n",
       "https://www.polymtl.ca/grames/en/people/profess...     benign       0   \n",
       "https://www.pipl.com/directory/name/Lauzon/Robert      benign       0   \n",
       "mainlandfishfarm.com/ms21hvyw                       malicious       1   \n",
       "https://www.foodandwine.com/recipes/perfect-piz...     benign       0   \n",
       "https://www.sourceforge.net/mailarchive/forum.p...     benign       0   \n",
       "\n",
       "                                                    IPpresent  url_len  dotC  \\\n",
       "url                                                                            \n",
       "https://www.polymtl.ca/grames/en/people/profess...          0       61     3   \n",
       "https://www.pipl.com/directory/name/Lauzon/Robert           0       49     2   \n",
       "mainlandfishfarm.com/ms21hvyw                               0       29     1   \n",
       "https://www.foodandwine.com/recipes/perfect-piz...          0       60     2   \n",
       "https://www.sourceforge.net/mailarchive/forum.p...          0      132     6   \n",
       "\n",
       "                                                    dslashC  sslashC  hyphenC  \\\n",
       "url                                                                             \n",
       "https://www.polymtl.ca/grames/en/people/profess...        1        4        0   \n",
       "https://www.pipl.com/directory/name/Lauzon/Robert         1        4        0   \n",
       "mainlandfishfarm.com/ms21hvyw                             0        1        0   \n",
       "https://www.foodandwine.com/recipes/perfect-piz...        1        2        2   \n",
       "https://www.sourceforge.net/mailarchive/forum.p...        1        2        3   \n",
       "\n",
       "                                                    delimC  shady_tld  \n",
       "url                                                                    \n",
       "https://www.polymtl.ca/grames/en/people/profess...       3          0  \n",
       "https://www.pipl.com/directory/name/Lauzon/Robert        0          0  \n",
       "mainlandfishfarm.com/ms21hvyw                            0          0  \n",
       "https://www.foodandwine.com/recipes/perfect-piz...       0          0  \n",
       "https://www.sourceforge.net/mailarchive/forum.p...       6          0  "
      ]
     },
     "execution_count": 21,
     "metadata": {},
     "output_type": "execute_result"
    }
   ],
   "source": [
    "db = sklearn.utils.shuffle(db)\n",
    "db.head()"
   ]
  },
  {
   "cell_type": "code",
   "execution_count": 4,
   "metadata": {},
   "outputs": [],
   "source": [
    "import numpy as np"
   ]
  },
  {
   "cell_type": "code",
   "execution_count": 5,
   "metadata": {},
   "outputs": [],
   "source": [
    "from sklearn.model_selection import cross_validate"
   ]
  },
  {
   "cell_type": "code",
   "execution_count": 22,
   "metadata": {},
   "outputs": [
    {
     "data": {
      "text/plain": [
       "array([[ 0, 61,  3, ...,  0,  3,  0],\n",
       "       [ 0, 49,  2, ...,  0,  0,  0],\n",
       "       [ 0, 29,  1, ...,  0,  0,  0],\n",
       "       ...,\n",
       "       [ 0, 46,  3, ...,  0,  3,  0],\n",
       "       [ 0, 46,  3, ...,  0,  0,  0],\n",
       "       [ 0, 53,  3, ...,  0,  0,  0]], dtype=int64)"
      ]
     },
     "execution_count": 22,
     "metadata": {},
     "output_type": "execute_result"
    }
   ],
   "source": [
    "X = np.array(db.drop(['label','result'],1))\n",
    "y = np.array(db['result'])\n",
    "\n",
    "X_train, X_test, y_train,y_test = sklearn.model_selection.train_test_split(X,y,test_size=0.2)\n",
    "X"
   ]
  },
  {
   "cell_type": "code",
   "execution_count": 23,
   "metadata": {},
   "outputs": [
    {
     "data": {
      "text/plain": [
       "array([0, 0, 1, ..., 0, 0, 1], dtype=int64)"
      ]
     },
     "execution_count": 23,
     "metadata": {},
     "output_type": "execute_result"
    }
   ],
   "source": [
    "y"
   ]
  },
  {
   "cell_type": "markdown",
   "metadata": {},
   "source": [
    "# Visualisation of data"
   ]
  },
  {
   "cell_type": "code",
   "execution_count": 4,
   "metadata": {},
   "outputs": [],
   "source": [
    "import matplotlib.pyplot as plt\n",
    "plt.style.use('classic')"
   ]
  },
  {
   "cell_type": "code",
   "execution_count": 5,
   "metadata": {},
   "outputs": [],
   "source": [
    "import seaborn as sns\n",
    "sns.set()"
   ]
  },
  {
   "cell_type": "code",
   "execution_count": 6,
   "metadata": {},
   "outputs": [],
   "source": [
    "db_label_gp = db.groupby('label')\n",
    "db_ben_gp = db_label_gp.get_group('benign')\n",
    "db_mal_gp = db_label_gp.get_group('malicious')"
   ]
  },
  {
   "cell_type": "code",
   "execution_count": 7,
   "metadata": {},
   "outputs": [
    {
     "data": {
      "image/png": "[encoded data removed]",
      "text/plain": [
       "<Figure size 432x288 with 1 Axes>"
      ]
     },
     "metadata": {},
     "output_type": "display_data"
    }
   ],
   "source": [
    "sns.distplot(db_ben_gp['url_len'],color='green',label='Benign URLs')\n",
    "sns.distplot(db_mal_gp['url_len'],color='red',label='Malicious URLs')\n",
    "plt.title('Url Length Distribution')\n",
    "plt.legend(loc='upper right')\n",
    "plt.xlabel('Length of URL')\n",
    "plt.show()"
   ]
  },
  {
   "cell_type": "code",
   "execution_count": null,
   "metadata": {},
   "outputs": [],
   "source": []
  },
  {
   "cell_type": "code",
   "execution_count": null,
   "metadata": {},
   "outputs": [],
   "source": []
  },
  {
   "cell_type": "markdown",
   "metadata": {},
   "source": [
    "# K-Nearest Neighbors Model\n",
    "\n",
    "### Model prediction for only lexical features of URL"
   ]
  },
  {
   "cell_type": "code",
   "execution_count": 8,
   "metadata": {},
   "outputs": [],
   "source": [
    "from sklearn import neighbors"
   ]
  },
  {
   "cell_type": "code",
   "execution_count": 9,
   "metadata": {},
   "outputs": [
    {
     "name": "stdout",
     "output_type": "stream",
     "text": [
      "Model accuracy =  87.61933741584572\n"
     ]
    }
   ],
   "source": [
    "clf= neighbors.KNeighborsClassifier()\n",
    "clf.fit(X_train, y_train)\n",
    "\n",
    "accuracy = clf.score(X_test, y_test)\n",
    "print('Model accuracy = ', accuracy*100)"
   ]
  },
  {
   "cell_type": "code",
   "execution_count": 28,
   "metadata": {},
   "outputs": [
    {
     "name": "stdout",
     "output_type": "stream",
     "text": [
      "Model Prediction =  [0 1 0 0 1 1 1 0 0 1]\n"
     ]
    }
   ],
   "source": [
    "#IPpresent, url_len, dotC, dslashC, sslashC, hyphenC, delimC, unsafeTLD\n",
    "#malicious url\n",
    "#url1 = https://ee-update.ref17.com/?ee=2 , url2 = https://apple-idsecurefix.com/ , url5 = http://188.165.3.247:6667\n",
    "#url6 = http://bboytaher1.no-ip.biz:1177, url7 = http://maypole.co.kr/mm/sun.exe, url10= http://1e90ff.com/q\n",
    "#benign url\n",
    "#url3 = https://learn.freecodecamp.org/ , url4 = https://www.mygov.in/, url8 = https://www.igdtuw.ac.in , url9 = https://www.coursera.org/learn/machine-learning\n",
    "\n",
    "\n",
    "ex_measure = np.array([[0,33,2,1,1,1,2,0], [0,30,1,1,1,1,0,0], [0,30,2,1,1,0,0,0],[0,21,2,1,1,0,0,0],[1,25,3,1,0,0,0,0],[0,32,2,0,1,0,0,0],[0,31,3,1,2,0,0,1],[0,24,2,1,0,0,0,0],[0,47,2,1,2,1,0,0],[0,19,1,1,1,0,0,0]])\n",
    "ex_measure = ex_measure.reshape(len(ex_measure),-1)\n",
    "\n",
    "prediction = clf.predict(ex_measure)\n",
    "print('Model Prediction = ', prediction)"
   ]
  },
  {
   "cell_type": "markdown",
   "metadata": {},
   "source": [
    "Model prediction correct for 9/10 cases. Correct prediction (1 1 0 0 1 1 1 0 0 1)"
   ]
  },
  {
   "cell_type": "code",
   "execution_count": null,
   "metadata": {},
   "outputs": [],
   "source": []
  },
  {
   "cell_type": "markdown",
   "metadata": {},
   "source": [
    "# Logistic Regression Classifier Model"
   ]
  },
  {
   "cell_type": "code",
   "execution_count": 18,
   "metadata": {},
   "outputs": [],
   "source": [
    "from sklearn.linear_model import LogisticRegression"
   ]
  },
  {
   "cell_type": "code",
   "execution_count": 24,
   "metadata": {},
   "outputs": [
    {
     "name": "stderr",
     "output_type": "stream",
     "text": [
      "C:\\Users\\Dell\\Anaconda3\\lib\\site-packages\\sklearn\\linear_model\\logistic.py:432: FutureWarning: Default solver will be changed to 'lbfgs' in 0.22. Specify a solver to silence this warning.\n",
      "  FutureWarning)\n"
     ]
    },
    {
     "name": "stdout",
     "output_type": "stream",
     "text": [
      "Model accuracy =  82.39606709520369\n"
     ]
    }
   ],
   "source": [
    "clf= LogisticRegression()\n",
    "clf.fit(X_train, y_train)\n",
    "\n",
    "accuracy = clf.score(X_test, y_test)\n",
    "print('Model accuracy = ', accuracy*100)"
   ]
  },
  {
   "cell_type": "code",
   "execution_count": 25,
   "metadata": {},
   "outputs": [
    {
     "name": "stdout",
     "output_type": "stream",
     "text": [
      "Model Prediction =  [0 0 0 0 1 1 1 0 0 0]\n"
     ]
    }
   ],
   "source": [
    "#IPpresent, url_len, dotC, dslashC, sslashC, hyphenC, delimC, unsafeTLD\n",
    "#malicious url\n",
    "#url1 = https://ee-update.ref17.com/?ee=2 , url2 = https://apple-idsecurefix.com/ , url5 = http://188.165.3.247:6667\n",
    "#url6 = http://bboytaher1.no-ip.biz:1177, url7 = http://maypole.co.kr/mm/sun.exe, url10= http://1e90ff.com/q\n",
    "#benign url\n",
    "#url3 = https://learn.freecodecamp.org/ , url4 = https://www.mygov.in/, url8 = https://www.igdtuw.ac.in , url9 = https://www.coursera.org/learn/machine-learning\n",
    "\n",
    "\n",
    "ex_measure = np.array([[0,33,2,1,1,1,2,0], [0,30,1,1,1,1,0,0], [0,30,2,1,1,0,0,0],[0,21,2,1,1,0,0,0],[1,25,3,1,0,0,0,0],[0,32,2,0,1,0,0,0],[0,31,3,1,2,0,0,1],[0,24,2,1,0,0,0,0],[0,47,2,1,2,1,0,0],[0,19,1,1,1,0,0,0]])\n",
    "ex_measure = ex_measure.reshape(len(ex_measure),-1)\n",
    "\n",
    "prediction = clf.predict(ex_measure)\n",
    "print('Model Prediction = ', prediction)"
   ]
  },
  {
   "cell_type": "markdown",
   "metadata": {},
   "source": [
    "Model prediction correct for 7/10 cases. Correct prediction (1 1 0 0 1 1 1 0 0 1)"
   ]
  },
  {
   "cell_type": "code",
   "execution_count": null,
   "metadata": {},
   "outputs": [],
   "source": []
  },
  {
   "cell_type": "markdown",
   "metadata": {},
   "source": [
    "# Random Forest Model"
   ]
  },
  {
   "cell_type": "code",
   "execution_count": 28,
   "metadata": {},
   "outputs": [],
   "source": [
    "from sklearn.tree import DecisionTreeClassifier"
   ]
  },
  {
   "cell_type": "code",
   "execution_count": 31,
   "metadata": {},
   "outputs": [
    {
     "name": "stdout",
     "output_type": "stream",
     "text": [
      "Model accuracy =  86.12452930660682\n"
     ]
    }
   ],
   "source": [
    "clf= DecisionTreeClassifier(criterion = \"gini\", random_state = 100,max_depth=3, min_samples_leaf=5)\n",
    "clf.fit(X_train, y_train)\n",
    "\n",
    "accuracy = clf.score(X_test, y_test)\n",
    "\n",
    "print('Model accuracy = ', accuracy*100)"
   ]
  },
  {
   "cell_type": "code",
   "execution_count": 32,
   "metadata": {},
   "outputs": [
    {
     "name": "stdout",
     "output_type": "stream",
     "text": [
      "Model Prediction =  [0 1 0 0 0 1 0 0 0 1]\n"
     ]
    }
   ],
   "source": [
    "#IPpresent, url_len, dotC, dslashC, sslashC, hyphenC, delimC, unsafeTLD\n",
    "#malicious url\n",
    "#url1 = https://ee-update.ref17.com/?ee=2 , url2 = https://apple-idsecurefix.com/ , url5 = http://188.165.3.247:6667\n",
    "#url6 = http://bboytaher1.no-ip.biz:1177, url7 = http://maypole.co.kr/mm/sun.exe, url10= http://1e90ff.com/q\n",
    "#benign url\n",
    "#url3 = https://learn.freecodecamp.org/ , url4 = https://www.mygov.in/, url8 = https://www.igdtuw.ac.in , url9 = https://www.coursera.org/learn/machine-learning\n",
    "\n",
    "\n",
    "ex_measure = np.array([[0,33,2,1,1,1,2,0], [0,30,1,1,1,1,0,0], [0,30,2,1,1,0,0,0],[0,21,2,1,1,0,0,0],[1,25,3,1,0,0,0,0],[0,32,2,0,1,0,0,0],[0,31,3,1,2,0,0,1],[0,24,2,1,0,0,0,0],[0,47,2,1,2,1,0,0],[0,19,1,1,1,0,0,0]])\n",
    "ex_measure = ex_measure.reshape(len(ex_measure),-1)\n",
    "\n",
    "prediction = clf.predict(ex_measure)\n",
    "print('Model Prediction = ', prediction)"
   ]
  },
  {
   "cell_type": "markdown",
   "metadata": {},
   "source": [
    "Model prediction correct for 7/10 cases. Correct prediction (1 1 0 0 1 1 1 0 0 1)"
   ]
  },
  {
   "cell_type": "code",
   "execution_count": null,
   "metadata": {},
   "outputs": [],
   "source": []
  }
 ],
 "metadata": {
  "kernelspec": {
   "display_name": "Python 3",
   "language": "python",
   "name": "python3"
  },
  "language_info": {
   "codemirror_mode": {
    "name": "ipython",
    "version": 3
   },
   "file_extension": ".py",
   "mimetype": "text/x-python",
   "name": "python",
   "nbconvert_exporter": "python",
   "pygments_lexer": "ipython3",
   "version": "3.6.9"
  }
 },
 "nbformat": 4,
 "nbformat_minor": 2
}
